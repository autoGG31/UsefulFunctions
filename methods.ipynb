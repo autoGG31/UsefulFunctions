{
 "cells": [
  {
   "cell_type": "markdown",
   "metadata": {},
   "source": [
    "## Data pre-processing"
   ]
  },
  {
   "cell_type": "markdown",
   "metadata": {},
   "source": [
    "#### 1. SMOTE sampling"
   ]
  },
  {
   "cell_type": "code",
   "execution_count": null,
   "metadata": {},
   "outputs": [],
   "source": [
    "def after_smote_df(df, x_num_col, y, seed):\n",
    "    \"\"\"\n",
    "    function: retain the data frame structure after using SMOTE\n",
    "    df: original df\n",
    "    x_num_col: all the numerical x variables\n",
    "    y: y variable\n",
    "    seed: random seed for oversampling\n",
    "    \"\"\"\n",
    "    x = df.drop(y, axis=1)\n",
    "    x = x[x_num_col]\n",
    "    y = df[y]\n",
    "    \n",
    "    smote = SMOTE(random_state=seed)\n",
    "    x_over, y_over = smote.fit_resample(x,y)\n",
    "    \n",
    "    x_over = pd.DataFrame(x_over, columns=x.columns)\n",
    "    y_over = pd.DataFrame(y_over)\n",
    "    df_over = pd.concat([x_over, y_over], axis=1)\n",
    "    \n",
    "    print('Ratio before oversampling: ',Counter(y))\n",
    "    print('Ratio after oversampling: ',Counter(y_over))\n",
    "    \n",
    "    return df_over"
   ]
  },
  {
   "cell_type": "markdown",
   "metadata": {},
   "source": [
    "## Visualization"
   ]
  },
  {
   "cell_type": "markdown",
   "metadata": {},
   "source": [
    "#### * distribution plot for many variables"
   ]
  },
  {
   "cell_type": "code",
   "execution_count": null,
   "metadata": {},
   "outputs": [],
   "source": [
    "columns = df.iloc[:,1:29].columns # select variables\n",
    "\n",
    "grid = gridspec.GridSpec(14,2) # change n_col and n_row accordingly \n",
    "plt.figure(figsize=(15,20*4)) # change fig size accordingly \n",
    "\n",
    "for n, col in enumerate(columns):\n",
    "    ax = plt.subplot(grid[n])\n",
    "    sns.distplot(df[df.Class==1][col], bins=50, color='b')\n",
    "    sns.distplot(df[df.Class==0][col], bins=50, color='r')\n",
    "    ax.set_title(col)\n",
    "plt.show()"
   ]
  },
  {
   "cell_type": "markdown",
   "metadata": {},
   "source": [
    "#### * boxplot for many variables"
   ]
  },
  {
   "cell_type": "code",
   "execution_count": null,
   "metadata": {},
   "outputs": [],
   "source": [
    "columns = ['V17','V14','V12','V10']\n",
    "\n",
    "grid = gridspec.GridSpec(1,4)\n",
    "plt.figure(figsize=(15,4))\n",
    "\n",
    "for n, col in enumerate(columns):\n",
    "    ax = plt.subplot(grid[n])\n",
    "    sns.boxplot(x='Class',y=col, data=df_over)\n",
    "    ax.set_title(col)"
   ]
  },
  {
   "cell_type": "markdown",
   "metadata": {},
   "source": [
    "#### * heatmap"
   ]
  },
  {
   "cell_type": "code",
   "execution_count": null,
   "metadata": {},
   "outputs": [],
   "source": [
    "def heatmap(df, chart_title):\n",
    "    corr = df.corr()\n",
    "\n",
    "    plt.figure(figsize=(10,8))\n",
    "    sns.heatmap(corr, cmap='coolwarm_r')\n",
    "    plt.title(chart_title, fontsize=20)"
   ]
  },
  {
   "cell_type": "markdown",
   "metadata": {},
   "source": [
    "## Model Evaluation"
   ]
  },
  {
   "cell_type": "code",
   "execution_count": null,
   "metadata": {},
   "outputs": [],
   "source": [
    "def print_results(headline, true_value, pred):\n",
    "    \"\"\"\n",
    "    headline: which model is this result for\n",
    "    true_value: y_test\n",
    "    pred: y_pred\n",
    "    \"\"\"\n",
    "    print(headline)\n",
    "    print(\"accuracy: {}\".format(accuracy_score(true_value, pred)))\n",
    "    print(\"precision: {}\".format(precision_score(true_value, pred)))\n",
    "    print(\"recall: {}\".format(recall_score(true_value, pred)))\n",
    "    print(\"f2: {}\".format(fbeta_score(true_value, pred, beta=2)))"
   ]
  },
  {
   "cell_type": "code",
   "execution_count": null,
   "metadata": {},
   "outputs": [],
   "source": [
    "import itertools\n",
    "def plot_confusion_matrix(cm, classes,\n",
    "                          normalize=False,\n",
    "                          title='Confusion matrix',\n",
    "                          cmap=plt.cm.Blues):\n",
    "    \"\"\"\n",
    "    This function prints and plots the confusion matrix.\n",
    "    Normalization can be applied by setting `normalize=True`.\n",
    "    cm: confusion matrix \n",
    "    classes: list of class names set for each level of y \n",
    "    title: chart title\n",
    "    \"\"\"\n",
    "    plt.imshow(cm, interpolation='nearest', cmap=cmap)\n",
    "    plt.title(title)\n",
    "    plt.colorbar()\n",
    "    tick_marks = np.arange(len(classes))\n",
    "    plt.xticks(tick_marks, classes, rotation=0)\n",
    "    plt.yticks(tick_marks, classes)\n",
    "\n",
    "    if normalize:\n",
    "        cm = cm.astype('float') / cm.sum(axis=1)[:, np.newaxis]\n",
    "        #print(\"Normalized confusion matrix\")\n",
    "    else:\n",
    "        1#print('Confusion matrix, without normalization')\n",
    "\n",
    "    #print(cm)\n",
    "\n",
    "    thresh = cm.max() / 2.\n",
    "    for i, j in itertools.product(range(cm.shape[0]), range(cm.shape[1])):\n",
    "        plt.text(j, i, cm[i, j],\n",
    "                 horizontalalignment=\"center\",\n",
    "                 color=\"white\" if cm[i, j] > thresh else \"black\")\n",
    "\n",
    "    plt.tight_layout()\n",
    "    plt.ylabel('True label')\n",
    "    plt.xlabel('Predicted label')"
   ]
  }
 ],
 "metadata": {
  "kernelspec": {
   "display_name": "Python 3",
   "language": "python",
   "name": "python3"
  },
  "language_info": {
   "codemirror_mode": {
    "name": "ipython",
    "version": 3
   },
   "file_extension": ".py",
   "mimetype": "text/x-python",
   "name": "python",
   "nbconvert_exporter": "python",
   "pygments_lexer": "ipython3",
   "version": "3.7.6"
  }
 },
 "nbformat": 4,
 "nbformat_minor": 4
}
